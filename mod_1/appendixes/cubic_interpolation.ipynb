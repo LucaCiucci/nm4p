{
 "cells": [
  {
   "cell_type": "code",
   "execution_count": 3,
   "metadata": {},
   "outputs": [
    {
     "data": {
      "text/latex": [
       "$\\displaystyle \\left[\\begin{matrix}1 & 0 & 0 & 0\\\\0 & 0 & 1 & 0\\\\-3 & 3 & -2 & -1\\\\2 & -2 & 1 & 1\\end{matrix}\\right]$"
      ],
      "text/plain": [
       "Matrix([\n",
       "[ 1,  0,  0,  0],\n",
       "[ 0,  0,  1,  0],\n",
       "[-3,  3, -2, -1],\n",
       "[ 2, -2,  1,  1]])"
      ]
     },
     "metadata": {},
     "output_type": "display_data"
    }
   ],
   "source": [
    "import sympy as sp\n",
    "\n",
    "matrix = sp.Matrix([[1, 0, 0, 0],\n",
    "                    [1, 1, 1, 1],\n",
    "                    [0, 1, 0, 0],\n",
    "                    [0, 1, 2, 3]])\n",
    "\n",
    "matrix_inv = matrix.inv()\n",
    "display(matrix_inv)"
   ]
  }
 ],
 "metadata": {
  "kernelspec": {
   "display_name": "Python 3",
   "language": "python",
   "name": "python3"
  },
  "language_info": {
   "codemirror_mode": {
    "name": "ipython",
    "version": 3
   },
   "file_extension": ".py",
   "mimetype": "text/x-python",
   "name": "python",
   "nbconvert_exporter": "python",
   "pygments_lexer": "ipython3",
   "version": "3.11.1"
  }
 },
 "nbformat": 4,
 "nbformat_minor": 2
}
